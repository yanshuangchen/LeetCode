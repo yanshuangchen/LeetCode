{
 "cells": [
  {
   "cell_type": "code",
   "execution_count": null,
   "id": "e28d5ecf",
   "metadata": {},
   "outputs": [],
   "source": [
    "!python --version"
   ]
  },
  {
   "cell_type": "code",
   "execution_count": null,
   "id": "330b9222",
   "metadata": {},
   "outputs": [],
   "source": [
    "!ruff format"
   ]
  },
  {
   "cell_type": "code",
   "execution_count": null,
   "id": "9b8cfb77",
   "metadata": {},
   "outputs": [],
   "source": [
    "!pip list\n",
    "!pip freeze > requirements.txt"
   ]
  },
  {
   "cell_type": "markdown",
   "id": "aaf644ed",
   "metadata": {},
   "source": [
    "- Python 是一种解释型语言： 这意味着开发过程中没有了编译这个环节。类似于PHP和Perl语言。\n",
    "\n",
    "- Python 是交互式语言： 这意味着，您可以在一个 Python 提示符 >>> 后直接执行代码。\n",
    "\n",
    "- Python 是面向对象语言: 这意味着Python支持面向对象的风格或代码封装在对象的编程技术。"
   ]
  },
  {
   "cell_type": "markdown",
   "id": "3bcdf676",
   "metadata": {},
   "source": [
    "--------"
   ]
  },
  {
   "cell_type": "markdown",
   "id": "41e6a943",
   "metadata": {},
   "source": [
    "`ruff format`格式化文档\n",
    "\n",
    "`Fitten Code`自动填充代码"
   ]
  },
  {
   "cell_type": "markdown",
   "id": "7ced9581",
   "metadata": {},
   "source": [
    "以下是 VSCode 中 Jupyter Notebook 的一些常用快捷键：\n",
    "\n",
    "### 单元格运行操作\n",
    "- **Ctrl + Enter**：运行当前单元格。\n",
    "- **Shift + Enter**：运行当前单元格并跳转到下一个单元格。\n",
    "- **Alt + Enter**：运行当前单元格并在下方创建一个新的单元格。\n",
    "\n",
    "### 单元格添加与删除\n",
    "- **A**：在当前单元格上方添加新单元格（命令模式）。\n",
    "- **B**：在当前单元格下方添加新单元格（命令模式）。\n",
    "- **dd**：删除当前单元格（命令模式）。\n",
    "\n",
    "### 单元格选择与移动\n",
    "- **J**：选择下一个单元格（命令模式）。\n",
    "- **K**：选择上一个单元格（命令模式）。\n",
    "- **Alt + 箭头键**：移动当前单元格。\n",
    "\n",
    "### 单元格模式切换\n",
    "- **Enter**：进入编辑模式。\n",
    "- **Esc**：进入命令模式。\n",
    "- **Y**：将当前单元格切换为代码模式（命令模式）。\n",
    "- **M**：将当前单元格切换为 Markdown 模式（命令模式）。\n",
    "\n",
    "### 其他操作\n",
    "- **Ctrl + /**：注释/取消注释选中的行。\n",
    "- **Ctrl + Shift + -**：在光标处切分当前单元格。\n",
    "- **L**：在当前单元格中启用或禁用行号（命令模式）。\n",
    "- **Shift + L**：切换整个 Notebook 的行号显示。\n",
    "- **z**：撤销上一次操作。\n",
    "\n",
    "如果默认快捷键与系统快捷键冲突，可以通过以下方式更改：\n",
    "1. 使用快捷键 `Ctrl + K, Ctrl + S` 打开键盘快捷键设置。\n",
    "2. 在设置中找到对应的 Jupyter 快捷键并进行修改。\n",
    "\n",
    "在 VSCode 的 Jupyter Notebook 中，可以通过快捷键 **`B`** 在当前单元格下方直接添加一个新的可编辑单元格。\n",
    "\n",
    "### 操作步骤：\n",
    "1. 确保你已经处于命令模式（按下 `Esc` 键，此时单元格边框会变成蓝色）。\n",
    "2. 按下 **`B`** 键，就会在当前单元格的下方插入一个新的单元格，并且该单元格会自动进入编辑模式（边框变为绿色），你可以直接开始输入代码或内容。\n",
    "\n",
    "如果你更习惯使用鼠标操作，也可以点击当前单元格下方的 **`+`** 按钮来添加一个新的单元格。\n",
    "\n",
    "如果你希望直接在编辑模式下添加新的单元格，可以使用 **`Alt + Enter`**。这个快捷键会在运行当前单元格后，在下方插入一个新的单元格并进入编辑模式。"
   ]
  },
  {
   "cell_type": "markdown",
   "id": "61d0f798",
   "metadata": {},
   "source": [
    "# 基础语法"
   ]
  },
  {
   "cell_type": "code",
   "execution_count": null,
   "id": "008a6c78",
   "metadata": {},
   "outputs": [],
   "source": [
    "姓名 = \"张三\"\n",
    "print(姓名)"
   ]
  },
  {
   "cell_type": "code",
   "execution_count": null,
   "id": "153ae28f",
   "metadata": {},
   "outputs": [],
   "source": [
    "import keyword\n",
    "\n",
    "keyword.kwlist"
   ]
  },
  {
   "cell_type": "markdown",
   "id": "60e80750",
   "metadata": {},
   "source": [
    "%%html\n",
    "<style>\n",
    "    /* Jupyter */\n",
    "    .rendered_html table,\n",
    "    /* Jupyter Lab*/\n",
    "    div[data-mime-type=\"text-markdown\"] table {\n",
    "        margin-left: 0;\n",
    "        display: block;\n",
    "    }\n",
    "</style>\n",
    "| 类别     | 关键字    | 说明                                   |\n",
    "|----------|-----------|----------------------------------------|\n",
    "| 逻辑值   | True      | 布尔数值                               |\n",
    "|          | False     | 布尔数值                               |\n",
    "|          | None      | 表示空值或无值                         |\n",
    "| 逻辑运算 | and       | 逻辑与运算                             |\n",
    "|          | or        | 逻辑或运算                             |\n",
    "|          | not       | 逻辑非运算                            |\n",
    "| 条件控制 | if        | 条件判断句                             |\n",
    "|          | elif      | 否则如果（else if 的缩写）             |\n",
    "|          | else      | 否则分支                              |\n",
    "| 循环控制 | for       | 迭代循环                              |\n",
    "|          | while     | 条件循环                              |\n",
    "|          | break     | 跳出循环                              |\n",
    "|          | continue  | 跳过当前循环的剩余部分，进入下一次迭代 |\n",
    "| 异常处理 | try       | 异常执行代码块                        |\n",
    "|          | except    | 捕获异常                              |\n",
    "|          | finally   | 无论是否发生异常都会执行的代码块       |\n",
    "|          | raise     | 抛出异常                              |\n",
    "| 函数定义 | def       | 定义函数                              |\n",
    "|          | return    | 从函数返回值                         |\n",
    "|          | lambda    | 创建匿名函数                         |\n",
    "| 类与对象 | class     | 定义类                               |\n",
    "|          | del       | 删除对象引用                         |\n",
    "| 模块导入 | import    | 导入模块                            |\n",
    "|          | from      | 从模块导入特定部分                   |\n",
    "|          | as        | 为导入的模块或对象创建别名          |\n",
    "| 作用域   | global    | 声明全局变量                         |\n",
    "|          | nonlocal  | 声明非局部变量（用于嵌套函数）       |\n",
    "| 异步编程 | async     | 声明异步函数                        |\n",
    "|          | await     | 等待异步操作完成                   |\n",
    "| 其他     | assert    | 断言，用于测试条件是否为真          |\n",
    "|          | in        | 检查成员关系                       |\n",
    "|          | is        | 检查对象身份（是否是同一个对象）    |\n",
    "|          | pass      | 空语句，用于占位                   |\n",
    "|          | with      | 上下文管理器，用于资源管理         |\n",
    "|          | yield     | 从生成器函数返回值                 |"
   ]
  },
  {
   "cell_type": "code",
   "execution_count": null,
   "id": "2b325498",
   "metadata": {},
   "outputs": [],
   "source": [
    "# 第一个注释\n",
    "# 第二个注释\n",
    "\n",
    "\"\"\"\n",
    "第三注释\n",
    "第四注释\n",
    "\"\"\"\n",
    "\n",
    "\"\"\"\n",
    "第五注释\n",
    "第六注释\n",
    "\"\"\"\n",
    "print(\"Hello, Python!\")"
   ]
  },
  {
   "cell_type": "code",
   "execution_count": null,
   "id": "95666401",
   "metadata": {},
   "outputs": [],
   "source": [
    "item_one = 1\n",
    "item_two = 2\n",
    "item_three = 3\n",
    "total = item_one + item_two + item_three\n",
    "print(total)  # 输出为 6"
   ]
  },
  {
   "cell_type": "markdown",
   "id": "9aab7db0",
   "metadata": {},
   "source": [
    "在 [], {}, 或 () 中的多行语句，不需要使用反斜杠`\\`，例如：\n",
    "```python\n",
    "total = ['item_one', 'item_two', 'item_three',\n",
    "        'item_four', 'item_five']\n",
    "```"
   ]
  },
  {
   "cell_type": "markdown",
   "id": "580b6b8e",
   "metadata": {},
   "source": [
    "`str[start:end:step]`"
   ]
  },
  {
   "cell_type": "code",
   "execution_count": null,
   "id": "714e4543",
   "metadata": {},
   "outputs": [],
   "source": [
    "str_test = \"1234567890\"\n",
    "print(str_test[1:5])\n",
    "print(str_test[::2])\n",
    "print(str_test[2:])\n",
    "print(str_test[2::2])\n",
    "print(str_test[0:-1])\n",
    "print(str_test[0])\n",
    "print(str_test[2:5])\n",
    "print(str_test[-1::-1])  # 逆序输出\n",
    "print(str_test[-1::-2])  # 逆序输出，步长为2\n",
    "print(str_test[2:])\n",
    "print(str_test[1:5:2])\n",
    "print(str_test * 2)\n",
    "print(str_test + \"你好\")\n",
    "print(\"------------------------------\")\n",
    "\n",
    "print(\"hello\\nrunoob\")  # 打印字符串，包含换行符\n",
    "print(r\"hello\\nrunoob\")  # 打印原始字符串，不处理转义字符"
   ]
  },
  {
   "cell_type": "code",
   "execution_count": null,
   "id": "95035460",
   "metadata": {},
   "outputs": [],
   "source": [
    "b = 1\n",
    "print(b)\n",
    "a = input(\"按下 enter 键后退出。\")\n",
    "print(a)"
   ]
  },
  {
   "cell_type": "code",
   "execution_count": null,
   "id": "7a586236",
   "metadata": {},
   "outputs": [],
   "source": [
    "#!/usr/bin/python3\n",
    "\n",
    "x = \"a\"\n",
    "y = \"b\"\n",
    "# 换行输出\n",
    "print(x)\n",
    "print(y)\n",
    "\n",
    "print(\"---------\")\n",
    "# 不换行输出\n",
    "print(x, end=\",\")\n",
    "print(y, end=\" \")\n",
    "print()"
   ]
  },
  {
   "cell_type": "markdown",
   "id": "e6623816",
   "metadata": {},
   "source": [
    "## import 与 from...import\n",
    "\n",
    "在 python 用 `import` 或者 `from...import` 来导入相应的模块。\n",
    "\n",
    "- 将整个模块(somemodule)导入，格式为：`import somemodule`\n",
    "- 从某个模块中导入某个函数，格式为：`from somemodule import somefunction`\n",
    "- 从某个模块中导入多个函数，格式为：`from somemodule import firstfunc, secondfunc, thirdfunc`\n",
    "- 将某个模块中的全部函数导入，格式为：`from somemodule import *`"
   ]
  },
  {
   "cell_type": "code",
   "execution_count": 14,
   "id": "d5a69923",
   "metadata": {},
   "outputs": [
    {
     "name": "stdout",
     "output_type": "stream",
     "text": [
      "================Python import mode==========================\n",
      "命令行参数为:\n",
      "c:\\Users\\86138\\anaconda3\\Lib\\site-packages\\ipykernel_launcher.py\n",
      "--f=c:\\Users\\86138\\AppData\\Roaming\\jupyter\\runtime\\kernel-v35d103365e83457e0a83b4388dcbb81156b014b71.json\n",
      "\n",
      " python 路径为 ['c:\\\\Users\\\\86138\\\\anaconda3\\\\python312.zip', 'c:\\\\Users\\\\86138\\\\anaconda3\\\\DLLs', 'c:\\\\Users\\\\86138\\\\anaconda3\\\\Lib', 'c:\\\\Users\\\\86138\\\\anaconda3', '', 'c:\\\\Users\\\\86138\\\\anaconda3\\\\Lib\\\\site-packages', 'c:\\\\Users\\\\86138\\\\anaconda3\\\\Lib\\\\site-packages\\\\win32', 'c:\\\\Users\\\\86138\\\\anaconda3\\\\Lib\\\\site-packages\\\\win32\\\\lib', 'c:\\\\Users\\\\86138\\\\anaconda3\\\\Lib\\\\site-packages\\\\Pythonwin']\n",
      "================python from import===================================\n",
      "path: ['c:\\\\Users\\\\86138\\\\anaconda3\\\\python312.zip', 'c:\\\\Users\\\\86138\\\\anaconda3\\\\DLLs', 'c:\\\\Users\\\\86138\\\\anaconda3\\\\Lib', 'c:\\\\Users\\\\86138\\\\anaconda3', '', 'c:\\\\Users\\\\86138\\\\anaconda3\\\\Lib\\\\site-packages', 'c:\\\\Users\\\\86138\\\\anaconda3\\\\Lib\\\\site-packages\\\\win32', 'c:\\\\Users\\\\86138\\\\anaconda3\\\\Lib\\\\site-packages\\\\win32\\\\lib', 'c:\\\\Users\\\\86138\\\\anaconda3\\\\Lib\\\\site-packages\\\\Pythonwin']\n"
     ]
    }
   ],
   "source": [
    "import sys\n",
    "from sys import path\n",
    "\n",
    "print(\"================Python import mode==========================\")\n",
    "print(\"命令行参数为:\")\n",
    "for i in sys.argv:\n",
    "    print(i)\n",
    "print(\"\\n python 路径为\", sys.path)\n",
    "\n",
    "print(\"================python from import===================================\")\n",
    "print(\"path:\", path)  # 因为已经导入path成员，所以此处引用时不需要加sys.path"
   ]
  },
  {
   "cell_type": "markdown",
   "id": "e0666798",
   "metadata": {},
   "source": [
    "# 基本数据类型"
   ]
  },
  {
   "cell_type": "code",
   "execution_count": 18,
   "id": "77b6e5ed",
   "metadata": {},
   "outputs": [
    {
     "name": "stdout",
     "output_type": "stream",
     "text": [
      "1 1 1\n",
      "1 1 1\n",
      "<class 'int'>\n",
      "<class 'float'>\n",
      "<class 'str'>\n",
      "<class 'bool'>\n"
     ]
    }
   ],
   "source": [
    "a = b = c = 1\n",
    "print(a, b, c)\n",
    "a = b = c = 1\n",
    "print(a, b, c)\n",
    "\n",
    "# 变量定义\n",
    "x = 10          # 整数\n",
    "y = 3.14         # 浮点数\n",
    "name = \"Alice\"   # 字符串\n",
    "is_active = True # 布尔值\n",
    "\n",
    "# 多变量赋值\n",
    "a, b, c = 1, 2, \"three\"\n",
    "\n",
    "# 查看数据类型\n",
    "print(type(x))        # <class 'int'>\n",
    "print(type(y))        # <class 'float'>\n",
    "print(type(name))     # <class 'str'>\n",
    "print(type(is_active)) # <class 'bool'>"
   ]
  },
  {
   "cell_type": "code",
   "execution_count": 21,
   "id": "48b67f01",
   "metadata": {},
   "outputs": [
    {
     "name": "stdout",
     "output_type": "stream",
     "text": [
      "<class 'int'> <class 'float'> <class 'bool'> <class 'complex'>\n"
     ]
    },
    {
     "data": {
      "text/plain": [
       "True"
      ]
     },
     "execution_count": 21,
     "metadata": {},
     "output_type": "execute_result"
    }
   ],
   "source": [
    "a, b, c, d = 20, 5.5, True, 4+3j\n",
    "print(type(a), type(b), type(c), type(d))\n",
    "isinstance(a, int)"
   ]
  },
  {
   "cell_type": "code",
   "execution_count": 24,
   "id": "3d35a057",
   "metadata": {},
   "outputs": [
    {
     "data": {
      "text/plain": [
       "32"
      ]
     },
     "execution_count": 24,
     "metadata": {},
     "output_type": "execute_result"
    }
   ],
   "source": [
    "5+4\n",
    "4.3-2\n",
    "3*7\n",
    "2/4\n",
    "2//4\n",
    "17%3\n",
    "2**5"
   ]
  },
  {
   "attachments": {
    "image.png": {
     "image/png": "[encoded data removed]"
    }
   },
   "cell_type": "markdown",
   "id": "856af2cb",
   "metadata": {},
   "source": [
    "![image.png](attachment:image.png)"
   ]
  }
 ],
 "metadata": {
  "kernelspec": {
   "display_name": "base",
   "language": "python",
   "name": "python3"
  },
  "language_info": {
   "codemirror_mode": {
    "name": "ipython",
    "version": 3
   },
   "file_extension": ".py",
   "mimetype": "text/x-python",
   "name": "python",
   "nbconvert_exporter": "python",
   "pygments_lexer": "ipython3",
   "version": "3.12.3"
  }
 },
 "nbformat": 4,
 "nbformat_minor": 5
}
