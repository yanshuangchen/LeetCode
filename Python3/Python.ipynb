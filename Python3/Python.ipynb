{
 "cells": [
  {
   "cell_type": "code",
   "execution_count": 1,
   "id": "e28d5ecf",
   "metadata": {},
   "outputs": [
    {
     "name": "stdout",
     "output_type": "stream",
     "text": [
      "Python 3.12.3\n"
     ]
    }
   ],
   "source": [
    "!python --version"
   ]
  },
  {
   "cell_type": "code",
   "execution_count": 2,
   "id": "330b9222",
   "metadata": {},
   "outputs": [
    {
     "name": "stdout",
     "output_type": "stream",
     "text": [
      "1 file reformatted\n"
     ]
    }
   ],
   "source": [
    "!ruff format"
   ]
  },
  {
   "cell_type": "code",
   "execution_count": 3,
   "id": "9b8cfb77",
   "metadata": {},
   "outputs": [
    {
     "name": "stdout",
     "output_type": "stream",
     "text": [
      "Package                   Version\n",
      "------------------------- ----------------\n",
      "absl-py                   2.2.2\n",
      "aiohappyeyeballs          2.4.0\n",
      "aiohttp                   3.10.5\n",
      "aiosignal                 1.2.0\n",
      "anaconda-anon-usage       0.4.4\n",
      "anaconda-catalogs         0.2.0\n",
      "anaconda-client           1.12.3\n",
      "anaconda-cloud-auth       0.5.1\n",
      "anaconda-navigator        2.6.3\n",
      "anaconda-project          0.11.1\n",
      "annotated-types           0.6.0\n",
      "archspec                  0.2.3\n",
      "asttokens                 3.0.0\n",
      "astunparse                1.6.3\n",
      "attrs                     23.1.0\n",
      "beautifulsoup4            4.12.3\n",
      "boltons                   23.0.0\n",
      "Bottleneck                1.4.2\n",
      "Brotli                    1.0.9\n",
      "certifi                   2025.1.31\n",
      "cffi                      1.17.1\n",
      "chardet                   4.0.0\n",
      "charset-normalizer        3.3.2\n",
      "click                     8.1.7\n",
      "colorama                  0.4.6\n",
      "comm                      0.2.2\n",
      "conda                     24.11.3\n",
      "conda-build               24.9.0\n",
      "conda-content-trust       0.2.0\n",
      "conda_index               0.5.0\n",
      "conda-libmamba-solver     24.9.0\n",
      "conda-pack                0.7.1\n",
      "conda-package-handling    2.3.0\n",
      "conda_package_streaming   0.10.0\n",
      "conda-repo-cli            1.0.114\n",
      "conda-token               0.5.0+1.g2209e04\n",
      "contourpy                 1.3.2\n",
      "cryptography              43.0.0\n",
      "cycler                    0.12.1\n",
      "debugpy                   1.8.14\n",
      "decorator                 5.2.1\n",
      "defusedxml                0.7.1\n",
      "distro                    1.9.0\n",
      "et-xmlfile                1.1.0\n",
      "exceptiongroup            1.2.2\n",
      "executing                 2.2.0\n",
      "fastjsonschema            2.16.2\n",
      "filelock                  3.13.1\n",
      "flatbuffers               25.2.10\n",
      "fonttools                 4.57.0\n",
      "frozendict                2.4.2\n",
      "frozenlist                1.4.0\n",
      "fsspec                    2024.6.1\n",
      "gast                      0.6.0\n",
      "google-pasta              0.2.0\n",
      "grpcio                    1.71.0\n",
      "h5py                      3.13.0\n",
      "idna                      3.7\n",
      "importlib_metadata        8.6.1\n",
      "intake                    2.0.7\n",
      "ipykernel                 6.29.5\n",
      "ipython                   9.2.0\n",
      "ipython_pygments_lexers   1.1.1\n",
      "jaraco.classes            3.2.1\n",
      "jedi                      0.19.2\n",
      "Jinja2                    3.1.4\n",
      "joblib                    1.4.2\n",
      "jsonpatch                 1.33\n",
      "jsonpointer               2.1\n",
      "jsonschema                4.23.0\n",
      "jsonschema-specifications 2023.7.1\n",
      "jupyter_client            8.6.3\n",
      "jupyter_core              5.7.2\n",
      "keras                     3.9.2\n",
      "keyring                   24.3.1\n",
      "kiwisolver                1.4.8\n",
      "libarchive-c              5.1\n",
      "libclang                  18.1.1\n",
      "libmambapy                1.5.8\n",
      "Markdown                  3.8\n",
      "markdown-it-py            3.0.0\n",
      "MarkupSafe                2.1.3\n",
      "matplotlib                3.10.1\n",
      "matplotlib-inline         0.1.7\n",
      "mdurl                     0.1.2\n",
      "menuinst                  2.1.2\n",
      "mkl_fft                   1.3.11\n",
      "mkl_random                1.2.8\n",
      "mkl-service               2.4.0\n",
      "ml_dtypes                 0.5.1\n",
      "more-itertools            10.3.0\n",
      "mpmath                    1.3.0\n",
      "multidict                 6.0.4\n",
      "namex                     0.0.8\n",
      "navigator-updater         0.5.1\n",
      "nbformat                  5.10.4\n",
      "nest_asyncio              1.6.0\n",
      "networkx                  3.3\n",
      "numexpr                   2.10.1\n",
      "numpy                     2.2.5\n",
      "opencv-python             4.11.0.86\n",
      "openpyxl                  3.1.5\n",
      "opt_einsum                3.4.0\n",
      "optree                    0.15.0\n",
      "packaging                 24.1\n",
      "pandas                    2.2.3\n",
      "parso                     0.8.4\n",
      "pickleshare               0.7.5\n",
      "pillow                    10.4.0\n",
      "pip                       24.2\n",
      "pkce                      1.0.3\n",
      "pkginfo                   1.10.0\n",
      "platformdirs              3.10.0\n",
      "pluggy                    1.0.0\n",
      "ply                       3.11\n",
      "prompt_toolkit            3.0.51\n",
      "protobuf                  5.29.4\n",
      "psutil                    5.9.0\n",
      "pure_eval                 0.2.3\n",
      "pycosat                   0.6.6\n",
      "pycparser                 2.21\n",
      "pydantic                  2.8.2\n",
      "pydantic_core             2.20.1\n",
      "Pygments                  2.19.1\n",
      "PyJWT                     2.8.0\n",
      "pyparsing                 3.2.3\n",
      "PyQt5                     5.15.10\n",
      "PyQt5-sip                 12.13.0\n",
      "PyQtWebEngine             5.15.6\n",
      "PySocks                   1.7.1\n",
      "python-dateutil           2.9.0.post0\n",
      "python-dotenv             0.21.0\n",
      "pytz                      2024.1\n",
      "pywin32                   305.1\n",
      "pywin32-ctypes            0.2.2\n",
      "PyYAML                    6.0.1\n",
      "pyzmq                     26.2.0\n",
      "QtPy                      2.4.1\n",
      "referencing               0.30.2\n",
      "requests                  2.32.3\n",
      "requests-toolbelt         1.0.0\n",
      "rich                      14.0.0\n",
      "rpds-py                   0.10.6\n",
      "ruamel.yaml               0.18.6\n",
      "ruamel.yaml.clib          0.2.8\n",
      "ruamel-yaml-conda         0.17.21\n",
      "ruff                      0.11.7\n",
      "scipy                     1.15.2\n",
      "semver                    3.0.2\n",
      "setuptools                79.0.1\n",
      "sip                       6.7.12\n",
      "six                       1.16.0\n",
      "soupsieve                 2.5\n",
      "stack_data                0.6.3\n",
      "sympy                     1.13.1\n",
      "tabulate                  0.9.0\n",
      "tensorboard               2.19.0\n",
      "tensorboard-data-server   0.7.2\n",
      "termcolor                 3.0.1\n",
      "thop                      0.1.1-2209072238\n",
      "torch                     2.6.0+cu126\n",
      "torchaudio                2.6.0+cu126\n",
      "torchvision               0.21.0\n",
      "tornado                   6.4.1\n",
      "tqdm                      4.67.1\n",
      "traitlets                 5.14.3\n",
      "truststore                0.8.0\n",
      "typing_extensions         4.11.0\n",
      "tzdata                    2023.3\n",
      "ujson                     5.10.0\n",
      "ultralytics-thop          2.0.14\n",
      "urllib3                   2.2.3\n",
      "wcwidth                   0.2.13\n",
      "Werkzeug                  3.1.3\n",
      "wheel                     0.44.0\n",
      "win-inet-pton             1.1.0\n",
      "wrapt                     1.17.2\n",
      "yarl                      1.11.0\n",
      "zipp                      3.21.0\n",
      "zstandard                 0.23.0\n"
     ]
    }
   ],
   "source": [
    "!pip list"
   ]
  },
  {
   "cell_type": "markdown",
   "id": "aaf644ed",
   "metadata": {},
   "source": [
    "- Python 是一种解释型语言： 这意味着开发过程中没有了编译这个环节。类似于PHP和Perl语言。\n",
    "\n",
    "- Python 是交互式语言： 这意味着，您可以在一个 Python 提示符 >>> 后直接执行代码。\n",
    "\n",
    "- Python 是面向对象语言: 这意味着Python支持面向对象的风格或代码封装在对象的编程技术。"
   ]
  },
  {
   "cell_type": "markdown",
   "id": "3bcdf676",
   "metadata": {},
   "source": [
    "--------"
   ]
  },
  {
   "cell_type": "markdown",
   "id": "41e6a943",
   "metadata": {},
   "source": [
    "`ruff format`格式化文档\n",
    "\n",
    "`Fitten Code`自动填充代码"
   ]
  },
  {
   "cell_type": "markdown",
   "id": "7ced9581",
   "metadata": {},
   "source": [
    "以下是 VSCode 中 Jupyter Notebook 的一些常用快捷键：\n",
    "\n",
    "### 单元格运行操作\n",
    "- **Ctrl + Enter**：运行当前单元格。\n",
    "- **Shift + Enter**：运行当前单元格并跳转到下一个单元格。\n",
    "- **Alt + Enter**：运行当前单元格并在下方创建一个新的单元格。\n",
    "\n",
    "### 单元格添加与删除\n",
    "- **A**：在当前单元格上方添加新单元格（命令模式）。\n",
    "- **B**：在当前单元格下方添加新单元格（命令模式）。\n",
    "- **dd**：删除当前单元格（命令模式）。\n",
    "\n",
    "### 单元格选择与移动\n",
    "- **J**：选择下一个单元格（命令模式）。\n",
    "- **K**：选择上一个单元格（命令模式）。\n",
    "- **Alt + 箭头键**：移动当前单元格。\n",
    "\n",
    "### 单元格模式切换\n",
    "- **Enter**：进入编辑模式。\n",
    "- **Esc**：进入命令模式。\n",
    "- **Y**：将当前单元格切换为代码模式（命令模式）。\n",
    "- **M**：将当前单元格切换为 Markdown 模式（命令模式）。\n",
    "\n",
    "### 其他操作\n",
    "- **Ctrl + /**：注释/取消注释选中的行。\n",
    "- **Ctrl + Shift + -**：在光标处切分当前单元格。\n",
    "- **L**：在当前单元格中启用或禁用行号（命令模式）。\n",
    "- **Shift + L**：切换整个 Notebook 的行号显示。\n",
    "- **z**：撤销上一次操作。\n",
    "\n",
    "如果默认快捷键与系统快捷键冲突，可以通过以下方式更改：\n",
    "1. 使用快捷键 `Ctrl + K, Ctrl + S` 打开键盘快捷键设置。\n",
    "2. 在设置中找到对应的 Jupyter 快捷键并进行修改。\n",
    "\n",
    "在 VSCode 的 Jupyter Notebook 中，可以通过快捷键 **`B`** 在当前单元格下方直接添加一个新的可编辑单元格。\n",
    "\n",
    "### 操作步骤：\n",
    "1. 确保你已经处于命令模式（按下 `Esc` 键，此时单元格边框会变成蓝色）。\n",
    "2. 按下 **`B`** 键，就会在当前单元格的下方插入一个新的单元格，并且该单元格会自动进入编辑模式（边框变为绿色），你可以直接开始输入代码或内容。\n",
    "\n",
    "如果你更习惯使用鼠标操作，也可以点击当前单元格下方的 **`+`** 按钮来添加一个新的单元格。\n",
    "\n",
    "如果你希望直接在编辑模式下添加新的单元格，可以使用 **`Alt + Enter`**。这个快捷键会在运行当前单元格后，在下方插入一个新的单元格并进入编辑模式。"
   ]
  },
  {
   "cell_type": "markdown",
   "id": "61d0f798",
   "metadata": {},
   "source": [
    "# 基础语法"
   ]
  },
  {
   "cell_type": "code",
   "execution_count": 4,
   "id": "008a6c78",
   "metadata": {},
   "outputs": [
    {
     "name": "stdout",
     "output_type": "stream",
     "text": [
      "张三\n"
     ]
    }
   ],
   "source": [
    "姓名 = \"张三\"\n",
    "print(姓名)"
   ]
  },
  {
   "cell_type": "code",
   "execution_count": 5,
   "id": "153ae28f",
   "metadata": {},
   "outputs": [
    {
     "data": {
      "text/plain": [
       "['False',\n",
       " 'None',\n",
       " 'True',\n",
       " 'and',\n",
       " 'as',\n",
       " 'assert',\n",
       " 'async',\n",
       " 'await',\n",
       " 'break',\n",
       " 'class',\n",
       " 'continue',\n",
       " 'def',\n",
       " 'del',\n",
       " 'elif',\n",
       " 'else',\n",
       " 'except',\n",
       " 'finally',\n",
       " 'for',\n",
       " 'from',\n",
       " 'global',\n",
       " 'if',\n",
       " 'import',\n",
       " 'in',\n",
       " 'is',\n",
       " 'lambda',\n",
       " 'nonlocal',\n",
       " 'not',\n",
       " 'or',\n",
       " 'pass',\n",
       " 'raise',\n",
       " 'return',\n",
       " 'try',\n",
       " 'while',\n",
       " 'with',\n",
       " 'yield']"
      ]
     },
     "execution_count": 5,
     "metadata": {},
     "output_type": "execute_result"
    }
   ],
   "source": [
    "import keyword\n",
    "keyword.kwlist"
   ]
  },
  {
   "cell_type": "markdown",
   "id": "60e80750",
   "metadata": {},
   "source": [
    "| 类别     | 关键字    | 说明                                   |\n",
    "|----------|-----------|----------------------------------------|\n",
    "| 逻辑值   | True      | 布尔数值                               |\n",
    "|          | False     | 布尔数值                               |\n",
    "|          | None      | 表示空值或无值                         |\n",
    "| 逻辑运算 | and       | 逻辑与运算                             |\n",
    "|          | or        | 逻辑或运算                             |\n",
    "|          | not       | 逻辑非运算                            |\n",
    "| 条件控制 | if        | 条件判断句                             |\n",
    "|          | elif      | 否则如果（else if 的缩写）             |\n",
    "|          | else      | 否则分支                              |\n",
    "| 循环控制 | for       | 迭代循环                              |\n",
    "|          | while     | 条件循环                              |\n",
    "|          | break     | 跳出循环                              |\n",
    "|          | continue  | 跳过当前循环的剩余部分，进入下一次迭代 |\n",
    "| 异常处理 | try       | 异常执行代码块                        |\n",
    "|          | except    | 捕获异常                              |\n",
    "|          | finally   | 无论是否发生异常都会执行的代码块       |\n",
    "|          | raise     | 抛出异常                              |\n",
    "| 函数定义 | def       | 定义函数                              |\n",
    "|          | return    | 从函数返回值                         |\n",
    "|          | lambda    | 创建匿名函数                         |\n",
    "| 类与对象 | class     | 定义类                               |\n",
    "|          | del       | 删除对象引用                         |\n",
    "| 模块导入 | import    | 导入模块                            |\n",
    "|          | from      | 从模块导入特定部分                   |\n",
    "|          | as        | 为导入的模块或对象创建别名          |\n",
    "| 作用域   | global    | 声明全局变量                         |\n",
    "|          | nonlocal  | 声明非局部变量（用于嵌套函数）       |\n",
    "| 异步编程 | async     | 声明异步函数                        |\n",
    "|          | await     | 等待异步操作完成                   |\n",
    "| 其他     | assert    | 断言，用于测试条件是否为真          |\n",
    "|          | in        | 检查成员关系                       |\n",
    "|          | is        | 检查对象身份（是否是同一个对象）    |\n",
    "|          | pass      | 空语句，用于占位                   |\n",
    "|          | with      | 上下文管理器，用于资源管理         |\n",
    "|          | yield     | 从生成器函数返回值                 |"
   ]
  },
  {
   "cell_type": "code",
   "execution_count": 6,
   "id": "2b325498",
   "metadata": {},
   "outputs": [
    {
     "name": "stdout",
     "output_type": "stream",
     "text": [
      "Hello, Python!\n"
     ]
    }
   ],
   "source": [
    "# 第一个注释\n",
    "# 第二个注释\n",
    "\n",
    "\"\"\"\n",
    "第三注释\n",
    "第四注释\n",
    "\"\"\"\n",
    "\n",
    "\"\"\"\n",
    "第五注释\n",
    "第六注释\n",
    "\"\"\"\n",
    "print(\"Hello, Python!\")"
   ]
  },
  {
   "cell_type": "code",
   "execution_count": 7,
   "id": "95666401",
   "metadata": {},
   "outputs": [
    {
     "name": "stdout",
     "output_type": "stream",
     "text": [
      "6\n"
     ]
    }
   ],
   "source": [
    "item_one = 1\n",
    "item_two = 2\n",
    "item_three = 3\n",
    "total = item_one + \\\n",
    "        item_two + \\\n",
    "        item_three\n",
    "print(total) # 输出为 6"
   ]
  },
  {
   "cell_type": "markdown",
   "id": "9aab7db0",
   "metadata": {},
   "source": [
    "在 [], {}, 或 () 中的多行语句，不需要使用反斜杠`\\`，例如：\n",
    "```python\n",
    "total = ['item_one', 'item_two', 'item_three',\n",
    "        'item_four', 'item_five']\n",
    "```"
   ]
  },
  {
   "cell_type": "code",
   "execution_count": null,
   "id": "714e4543",
   "metadata": {},
   "outputs": [
    {
     "name": "stdout",
     "output_type": "stream",
     "text": [
      "1234567890\n",
      "123456789\n",
      "1\n",
      "345\n",
      "34567890\n",
      "24\n",
      "12345678901234567890\n",
      "1234567890你好\n",
      "------------------------------\n",
      "hello\n",
      "runoob\n",
      "hello\\nrunoob\n"
     ]
    }
   ],
   "source": [
    "str = \"1234567890\"\n",
    "\n",
    "print(str[1:5])  # 打印字符串str从索引1到索引4的子串\n",
    "print(str[0:-1]) # 打印字符串str从索引0到倒数第二个字符的子串\n",
    "print(str[0])    # 打印字符串str的第一个字符\n",
    "print(str[2:5])  # 打印字符串str从索引2到索引4的子串\n",
    "print(str[2:])   # 打印字符串str从索引2到末尾的子串\n",
    "print(str[1:5:2])# 打印字符串str从索引1到索引4的子串，步长为2\n",
    "print(str * 2)   # 打印字符串str重复两次\n",
    "print(str + \"你好\")# 打印字符串str与\"你好\"连接后的结果 \n",
    "\n",
    "print(\"------------------------------\")\n",
    "\n",
    "print(\"hello\\nrunoob\")  # 打印包含换行符的字符串  \n",
    "print(r\"hello\\nrunoob\")  # 打印原始字符串，不处理转义字符"
   ]
  }
 ],
 "metadata": {
  "kernelspec": {
   "display_name": "base",
   "language": "python",
   "name": "python3"
  },
  "language_info": {
   "codemirror_mode": {
    "name": "ipython",
    "version": 3
   },
   "file_extension": ".py",
   "mimetype": "text/x-python",
   "name": "python",
   "nbconvert_exporter": "python",
   "pygments_lexer": "ipython3",
   "version": "3.12.3"
  }
 },
 "nbformat": 4,
 "nbformat_minor": 5
}
